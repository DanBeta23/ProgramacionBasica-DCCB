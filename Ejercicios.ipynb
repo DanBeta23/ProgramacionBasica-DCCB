{
  "nbformat": 4,
  "nbformat_minor": 0,
  "metadata": {
    "colab": {
      "provenance": [],
      "authorship_tag": "ABX9TyNt/q5yLJmXr4bKwSrvamgS",
      "include_colab_link": true
    },
    "kernelspec": {
      "name": "python3",
      "display_name": "Python 3"
    },
    "language_info": {
      "name": "python"
    }
  },
  "cells": [
    {
      "cell_type": "markdown",
      "metadata": {
        "id": "view-in-github",
        "colab_type": "text"
      },
      "source": [
        "<a href=\"https://colab.research.google.com/github/DanBeta23/ProgramacionBasica-DCCB/blob/main/Ejercicios.ipynb\" target=\"_parent\"><img src=\"https://colab.research.google.com/assets/colab-badge.svg\" alt=\"Open In Colab\"/></a>"
      ]
    },
    {
      "cell_type": "code",
      "execution_count": null,
      "metadata": {
        "colab": {
          "base_uri": "https://localhost:8080/"
        },
        "id": "AnWZk__JQ_nN",
        "outputId": "9daaccd7-a554-4e0d-f895-90e19fd6aee9"
      },
      "outputs": [
        {
          "output_type": "stream",
          "name": "stdout",
          "text": [
            "Ingrese una frase: hola como estas\n",
            "La frase tiene 3 palabras\n"
          ]
        },
        {
          "output_type": "execute_result",
          "data": {
            "text/plain": [
              "3"
            ]
          },
          "metadata": {},
          "execution_count": 2
        }
      ],
      "source": [
        "#Contador de palabras en un texto\n",
        "#Diseña un programa que tome un párrafo o un texto largo y cuente cuántas palabras contiene. Considera que las palabras están por espacios\n",
        "def contar_palabras(frase):\n",
        "    palabras = frase.split()\n",
        "    return len(palabras)\n",
        "\n",
        "frase=input(\"Ingrese una frase: \")\n",
        "print(\"La frase tiene\", contar_palabras(frase), \"palabras\")\n",
        "contar_palabras(frase)\n"
      ]
    },
    {
      "cell_type": "code",
      "source": [
        "#Reversión de palabras en una frase\n",
        "#Escribe un programa que tome una frase y devuelva una nueva frase con las palabras invertidas. Por ejemplo, si la entrada es \"Hola mundo\", la salida debería ser \"aloh odnum\"\n"
      ],
      "metadata": {
        "colab": {
          "base_uri": "https://localhost:8080/"
        },
        "id": "-BgKeZXdSmr0",
        "outputId": "e1fe399d-b51d-44c6-c547-029289172425"
      },
      "execution_count": null,
      "outputs": [
        {
          "output_type": "stream",
          "name": "stdout",
          "text": [
            "Ingrese una frase: Hola mundo\n",
            "mundo Hola\n"
          ]
        }
      ]
    }
  ]
}