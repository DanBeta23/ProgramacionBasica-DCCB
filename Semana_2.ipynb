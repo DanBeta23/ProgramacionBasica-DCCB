{
  "nbformat": 4,
  "nbformat_minor": 0,
  "metadata": {
    "colab": {
      "provenance": [],
      "authorship_tag": "ABX9TyMKtrvnUl1ZFEeiEKSsYWb2",
      "include_colab_link": true
    },
    "kernelspec": {
      "name": "python3",
      "display_name": "Python 3"
    },
    "language_info": {
      "name": "python"
    }
  },
  "cells": [
    {
      "cell_type": "markdown",
      "metadata": {
        "id": "view-in-github",
        "colab_type": "text"
      },
      "source": [
        "<a href=\"https://colab.research.google.com/github/DanBeta23/ProgramacionBasica-DCCB/blob/main/Semana_2.ipynb\" target=\"_parent\"><img src=\"https://colab.research.google.com/assets/colab-badge.svg\" alt=\"Open In Colab\"/></a>"
      ]
    },
    {
      "cell_type": "code",
      "execution_count": null,
      "metadata": {
        "id": "sLh5tZtNyiRT"
      },
      "outputs": [],
      "source": [
        "numA=int(input(\"Ingrese A\"))\n",
        "numB=int(input(\"Ingrese B\"))\n",
        "\n",
        "pregunta1=numA>numB\n",
        "\n",
        "\n",
        "matricula=0\n"
      ]
    }
  ]
}