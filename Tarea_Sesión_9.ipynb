{
  "cells": [
    {
      "cell_type": "markdown",
      "metadata": {
        "id": "view-in-github",
        "colab_type": "text"
      },
      "source": [
        "<a href=\"https://colab.research.google.com/github/DanBeta23/ProgramacionBasica-DCCB/blob/main/Tarea_Sesi%C3%B3n_9.ipynb\" target=\"_parent\"><img src=\"https://colab.research.google.com/assets/colab-badge.svg\" alt=\"Open In Colab\"/></a>"
      ]
    },
    {
      "cell_type": "markdown",
      "metadata": {
        "id": "Kz_p9igz1Hbl"
      },
      "source": [
        "Ejercicios de Lectura y Escritura de Archivos"
      ]
    },
    {
      "cell_type": "code",
      "execution_count": null,
      "metadata": {
        "id": "-5_Gx5B3ye6x"
      },
      "outputs": [],
      "source": [
        "## 1. Escritura de un archivo de texto\n",
        "lista_de_nombres = [\"Dan\", \"Marley\", \"Victor\", \"Max\"]\n",
        "\n",
        "with open(\"nombres.txt\", \"w\") as archivo:\n",
        "    for nombre in lista_de_nombres:\n",
        "        archivo.write(nombre + \"\\n\")"
      ]
    },
    {
      "cell_type": "code",
      "execution_count": null,
      "metadata": {
        "colab": {
          "base_uri": "https://localhost:8080/"
        },
        "id": "2J_2_mZJ1NTV",
        "outputId": "ba753afd-35e1-4063-bbd4-7dfadaf9770a"
      },
      "outputs": [
        {
          "name": "stdout",
          "output_type": "stream",
          "text": [
            "['Dan', 'Marley', 'Victor', 'Max']\n"
          ]
        }
      ],
      "source": [
        "## 2. Lectura de un Archivo de texto\n",
        "with open(\"nombres.txt\", \"r\") as archivo:\n",
        "    nombres = archivo.readlines()\n",
        "\n",
        "nombres = [nombre.strip() for nombre in nombres]\n",
        "print(nombres)"
      ]
    },
    {
      "cell_type": "code",
      "execution_count": null,
      "metadata": {
        "id": "78lyaSNEMQOT"
      },
      "outputs": [],
      "source": [
        "lista_de_numeros = [6, 4, 24, 76, 23, 5, 1, 30]\n",
        "\n",
        "with open(\"numeros.txt\", \"w\") as archivo:\n",
        "    for numero in lista_de_numeros:\n",
        "        archivo.write(str(numero) + \"\\n\")"
      ]
    },
    {
      "cell_type": "code",
      "execution_count": null,
      "metadata": {
        "colab": {
          "base_uri": "https://localhost:8080/"
        },
        "id": "HwUgrj1A26LM",
        "outputId": "3c5266b8-11f1-44c4-ce00-2336c85c0884"
      },
      "outputs": [
        {
          "name": "stdout",
          "output_type": "stream",
          "text": [
            "169\n"
          ]
        }
      ],
      "source": [
        "## 3. Lectura y Parseo de Números Enteros:\n",
        "with open(\"numeros.txt\", \"r\") as archivo:\n",
        "    numeros = archivo.readlines()\n",
        "\n",
        "numeros = [int(numero.strip()) for numero in numeros]\n",
        "suma = sum(numeros)\n",
        "print(suma)"
      ]
    },
    {
      "cell_type": "code",
      "execution_count": null,
      "metadata": {
        "id": "GP4ilUShSO30"
      },
      "outputs": [],
      "source": [
        "estudiantes = [{\"nombre\":\"Lilian\",\n",
        "             \"edad\": 16,\n",
        "             \"calificaciones\": 10},\n",
        "             {\"nombre\":\"Michelle\",\n",
        "             \"edad\": 16,\n",
        "             \"calificaciones\": 8},\n",
        "             {\"nombre\":\"Valentina\",\n",
        "             \"edad\": 15,\n",
        "             \"calificaciones\": 10}]\n",
        "\n",
        "with open(\"estudiantes.txt\", \"w\") as archivo:\n",
        "    for estudiante in estudiantes:\n",
        "        archivo.write(f\"{estudiante['nombre']},{estudiante['edad']},{estudiante['calificaciones']}\\n\")"
      ]
    },
    {
      "cell_type": "code",
      "execution_count": null,
      "metadata": {
        "colab": {
          "background_save": true
        },
        "id": "UytinawzM-K9",
        "outputId": "4c00295a-964b-4b67-ab78-9f987980a8eb"
      },
      "outputs": [
        {
          "name": "stdout",
          "output_type": "stream",
          "text": [
            "{'nombre': 'Lilian', 'edad': 16, 'calificaciones': 10}\n",
            "{'nombre': 'Michelle', 'edad': 16, 'calificaciones': 8}\n",
            "{'nombre': 'Valentina', 'edad': 15, 'calificaciones': 10}\n"
          ]
        }
      ],
      "source": [
        "## 4. Lectura y Escritura de diccionarios:\n",
        "estudiantes = []\n",
        "\n",
        "with open(\"estudiantes.txt\", \"r\") as archivo:\n",
        "    for linea in archivo:\n",
        "        datos = linea.strip().split(',')\n",
        "\n",
        "        estudiante = {\n",
        "            \"nombre\": datos[0],\n",
        "            \"edad\": int(datos[1]),\n",
        "            \"calificaciones\": eval(datos[2])\n",
        "                     }\n",
        "\n",
        "        estudiantes.append(estudiante)\n",
        "\n",
        "for estudiante in estudiantes:\n",
        "    print(estudiante)\n",
        "\n",
        "\n",
        "modificacion_estudiante = input(\"Ingresa el nombre del estudiante a modificar: \")\n",
        "for estudiante in estudiantes:\n",
        "    if estudiante[\"nombre\"].lower() == modificacion_estudiante.lower():\n",
        "        print(f\"Datos actuales de {estudiante['nombre']}:\")\n",
        "        print(f\"Edad: {estudiante['edad']}\")\n",
        "        print(f\"Calificaciones: {estudiante['calificaciones']}\")\n",
        "\n",
        "\n",
        "        nueva_edad = int(input(\"Ingresa la nueva edad: \"))\n",
        "        estudiante[\"edad\"] = nueva_edad\n",
        "\n",
        "\n",
        "        print(\"Ingresa las nuevas calificaciones:\")\n",
        "        nuevas_calificaciones = []\n",
        "        for i in range(5):\n",
        "            nueva_calificacion = int(input(f\"Calificación {i+1}: \"))\n",
        "            nuevas_calificaciones.append(nueva_calificacion)\n",
        "        estudiante[\"calificaciones\"] = nuevas_calificaciones\n",
        "\n",
        "        print(\"Datos actualizados:\")\n",
        "        print(estudiante)\n",
        "        break\n",
        "else:\n",
        "    print(f\"No se encontró un estudiante con el nombre '{modificacion_estudiante}'.\")\n",
        "\n",
        "\n",
        "with open(\"estudiantes.txt\", \"w\") as archivo:\n",
        "    for estudiante in estudiantes:\n",
        "\n",
        "        linea = f\"{estudiante['nombre']},{estudiante['edad']},{','.join(map(str, estudiante['calificaciones']))}\\n\"\n",
        "        archivo.write(linea)\n",
        "\n",
        "print(\"Los cambios se han guardado correctamente en el archivo.\")"
      ]
    },
    {
      "cell_type": "code",
      "execution_count": null,
      "metadata": {
        "id": "yD8bCHc0Os5N"
      },
      "outputs": [],
      "source": [
        "## 5. Escritura de un archivo de texto con formato de específico:\n",
        "\n",
        "empleados = [{\"nombre\":\"Javier Romanos Diaz\",\n",
        "             \"edad\": 24,\n",
        "             \"salario\": 4500},\n",
        "             {\"nombre\":\"Jose Armando Sanchez Perez del Angel\",\n",
        "             \"edad\": 36,\n",
        "             \"salario\": 1750},\n",
        "             {\"nombre\":\"Jose Carlos Dianzo Aguilar Montes\",\n",
        "             \"edad\": 32,\n",
        "             \"salario\": 2100}]\n",
        "\n",
        "with open(\"empleados.txt\", \"w\") as archivo:\n",
        "    for empleado in empleados:\n",
        "        archivo.write(f\"{empleado['nombre']},{empleado['edad']},{empleado['salario']}\\n\")"
      ]
    },
    {
      "cell_type": "code",
      "execution_count": null,
      "metadata": {
        "colab": {
          "base_uri": "https://localhost:8080/"
        },
        "id": "gSdOPVDhQ9gQ",
        "outputId": "8824d1c0-f579-45c4-fcf4-ff455ccbc9dc"
      },
      "outputs": [
        {
          "name": "stdout",
          "output_type": "stream",
          "text": [
            "[{'nombre': 'Javier Romanos Díaz', 'edad': 24, 'salario': 4500.0}, {'nombre': 'José Armando Sánchez Perez del Ángel', 'edad': 36, 'salario': 1750.0}, {'nombre': 'José Carlos Dianzo Aguilar Montes', 'edad': 32, 'salario': 2100.0}]\n",
            "El salario promedio es: 2783.3333333333335\n"
          ]
        }
      ],
      "source": [
        "## 6. Lectura de un archivo de texto con formato específico\n",
        "\n",
        "empleados = []\n",
        "\n",
        "with open(\"empleados.txt\", \"r\") as archivo:\n",
        "    for linea in archivo:\n",
        "      datos = linea.strip().split(\",\")\n",
        "      empleado = {\n",
        "            \"nombre\": datos[0],\n",
        "            \"edad\": int(datos[1]),\n",
        "            \"salario\": float(datos[2])\n",
        "        }\n",
        "      empleados.append(empleado)\n",
        "\n",
        "print(empleados)\n",
        "\n",
        "salario_total = 0\n",
        "for empleado in empleados:\n",
        "    salario_total += empleado[\"salario\"]\n",
        "\n",
        "salario_promedio = salario_total / len(empleados)\n",
        "print(f\"El salario promedio es: {salario_promedio}\")"
      ]
    },
    {
      "cell_type": "markdown",
      "metadata": {
        "id": "gutW3IXGMgtC"
      },
      "source": [
        "Ejercicios de Manejo de Excepciones"
      ]
    },
    {
      "cell_type": "code",
      "execution_count": null,
      "metadata": {
        "colab": {
          "base_uri": "https://localhost:8080/"
        },
        "id": "v6eKvNz7MkXj",
        "outputId": "9880fb2f-b0de-4c00-bca1-a2d6dc421027"
      },
      "outputs": [
        {
          "name": "stdout",
          "output_type": "stream",
          "text": [
            "No se puede dividir por cero.\n",
            "5.0\n"
          ]
        }
      ],
      "source": [
        "## 1. División por cero\n",
        "def dividir(a, b):\n",
        "    try:\n",
        "        resultado = a / b\n",
        "        return resultado\n",
        "    except ZeroDivisionError:\n",
        "        return(\"No se puede dividir por cero.\")\n",
        "\n",
        "print(dividir(5, 0))\n",
        "print(dividir(10, 2))"
      ]
    },
    {
      "cell_type": "code",
      "execution_count": null,
      "metadata": {
        "colab": {
          "base_uri": "https://localhost:8080/"
        },
        "id": "9K1TTJT8NmHC",
        "outputId": "a83eaf5a-5855-49cc-939c-9869641ab5ce"
      },
      "outputs": [
        {
          "name": "stdout",
          "output_type": "stream",
          "text": [
            "2302\n",
            "La cadena no es un número válido.\n"
          ]
        }
      ],
      "source": [
        "## 2. Cnversión de cadena a entero:\n",
        "def convertir_a_entero(cadena):\n",
        "    try:\n",
        "        numero = int(cadena)\n",
        "        return numero\n",
        "    except ValueError:\n",
        "        return(\"La cadena no es un número válido.\")\n",
        "\n",
        "print(convertir_a_entero(\"2302\"))\n",
        "print(convertir_a_entero(\"dcb\"))"
      ]
    },
    {
      "cell_type": "code",
      "execution_count": null,
      "metadata": {
        "colab": {
          "base_uri": "https://localhost:8080/"
        },
        "id": "SxI_m6cFOJmL",
        "outputId": "fdb30189-b11a-4863-8f9c-3ca95fc35f16"
      },
      "outputs": [
        {
          "name": "stdout",
          "output_type": "stream",
          "text": [
            "4\n",
            "El índice está fuera de rango.\n"
          ]
        }
      ],
      "source": [
        "## 3. Acceso a elemento de lista\n",
        "def obtener_elemento(lista, indice):\n",
        "    try:\n",
        "        elemento = lista[indice]\n",
        "        return elemento\n",
        "    except IndexError:\n",
        "        return(\"El índice está fuera de rango.\")\n",
        "\n",
        "lista = [1, 2, 3, 4, 5]\n",
        "print(obtener_elemento(lista, 3))\n",
        "print(obtener_elemento(lista, 10))"
      ]
    },
    {
      "cell_type": "code",
      "execution_count": null,
      "metadata": {
        "colab": {
          "base_uri": "https://localhost:8080/"
        },
        "id": "c98px8ecOrn6",
        "outputId": "51c9aaa6-f95c-455e-a019-627bf75d8818"
      },
      "outputs": [
        {
          "name": "stdout",
          "output_type": "stream",
          "text": [
            "El archivo no se encuentra en la ruta especificada.\n"
          ]
        }
      ],
      "source": [
        "## 4. Apertura de archivo\n",
        "def leer_archivo(nombre_archivo):\n",
        "    try:\n",
        "        with open(nombre_archivo, \"r\") as archivo:\n",
        "            contenido = archivo.read()\n",
        "            return contenido\n",
        "    except FileNotFoundError:\n",
        "        return(\"El archivo no se encuentra en la ruta especificada.\")\n",
        "\n",
        "print(leer_archivo(\"archivo_no_existente.txt\"))"
      ]
    },
    {
      "cell_type": "code",
      "execution_count": null,
      "metadata": {
        "colab": {
          "base_uri": "https://localhost:8080/"
        },
        "id": "vxthUKGgPJig",
        "outputId": "29f2fcfb-adf5-426f-d043-5f3885252246"
      },
      "outputs": [
        {
          "name": "stdout",
          "output_type": "stream",
          "text": [
            "25\n",
            "La clave no existe en el diccionario.\n"
          ]
        }
      ],
      "source": [
        "## 5. Acceso a clave de diccionario\n",
        "def obtener_valor(diccionario, clave):\n",
        "    try:\n",
        "        valor = diccionario[clave]\n",
        "        return valor\n",
        "    except KeyError:\n",
        "        return(\"La clave no existe en el diccionario.\")\n",
        "\n",
        "diccionario = {\"nombre\": \"Juan\", \"edad\": 25, \"ciudad\": \"Madrid\"}\n",
        "print(obtener_valor(diccionario, \"edad\"))\n",
        "print(obtener_valor(diccionario, \"pais\"))"
      ]
    },
    {
      "cell_type": "code",
      "execution_count": null,
      "metadata": {
        "colab": {
          "base_uri": "https://localhost:8080/"
        },
        "id": "tZEFmFV3Pfdg",
        "outputId": "18d0fee4-d778-4aa3-a403-c45f1127cdeb"
      },
      "outputs": [
        {
          "name": "stdout",
          "output_type": "stream",
          "text": [
            "5.0\n",
            "No se puede calcular la raíz cuadrada de un número negativo.\n"
          ]
        }
      ],
      "source": [
        "## 6. Cálculo de raíz cuadrada\n",
        "import math\n",
        "def raiz_cuadrada(numero):\n",
        "    try:\n",
        "        resultado = math.sqrt(numero)\n",
        "        return resultado\n",
        "    except ValueError:\n",
        "        return(\"No se puede calcular la raíz cuadrada de un número negativo.\")\n",
        "\n",
        "print(raiz_cuadrada(25))\n",
        "print(raiz_cuadrada(-9))"
      ]
    },
    {
      "cell_type": "code",
      "execution_count": null,
      "metadata": {
        "colab": {
          "base_uri": "https://localhost:8080/"
        },
        "id": "-qTDRLWUPsGZ",
        "outputId": "4c179086-35c5-4b2a-91ed-23c3ec05fde7"
      },
      "outputs": [
        {
          "name": "stdout",
          "output_type": "stream",
          "text": [
            "[1.0, 2.0, 3.0, 4.0, 5.0]\n"
          ]
        }
      ],
      "source": [
        "## 7. División de elementos de lista\n",
        "def dividir_elementos(lista, divisor):\n",
        "    try:\n",
        "        resultados = [elemento / divisor for elemento in lista]\n",
        "        return resultados\n",
        "    except ZeroDivisionError:\n",
        "        return(\"No se puede dividir por cero.\")\n",
        "\n",
        "lista = [10, 20, 30, 40, 50]\n",
        "print(dividir_elementos(lista, 10))"
      ]
    },
    {
      "cell_type": "code",
      "execution_count": null,
      "metadata": {
        "colab": {
          "base_uri": "https://localhost:8080/"
        },
        "collapsed": true,
        "id": "uvHeIQt_QYtx",
        "outputId": "6928350d-c47e-4351-f4a1-b7e394663625"
      },
      "outputs": [
        {
          "name": "stdout",
          "output_type": "stream",
          "text": [
            "El contenido se ha escrito correctamente en archivo.txt.\n"
          ]
        }
      ],
      "source": [
        "## 8. Escritura en archivo\n",
        "def escribir_archivo(nombre_archivo, contenido):\n",
        "    try:\n",
        "        with open(nombre_archivo, \"w\") as archivo:\n",
        "            archivo.write(contenido)\n",
        "        return(f\"El contenido se ha escrito correctamente en {nombre_archivo}.\")\n",
        "    except IOError as e:\n",
        "        return(f\"Error al escribir en el archivo {nombre_archivo}: {e}\")\n",
        "\n",
        "print(escribir_archivo(\"archivo.txt\", \"Hola, mundo!\"))"
      ]
    }
  ],
  "metadata": {
    "colab": {
      "provenance": [],
      "authorship_tag": "ABX9TyMzCOunGgbkrssMomTibSLr",
      "include_colab_link": true
    },
    "kernelspec": {
      "display_name": "Python 3",
      "name": "python3"
    },
    "language_info": {
      "name": "python"
    }
  },
  "nbformat": 4,
  "nbformat_minor": 0
}