{
  "nbformat": 4,
  "nbformat_minor": 0,
  "metadata": {
    "colab": {
      "provenance": [],
      "authorship_tag": "ABX9TyNdP3pZH3xTkmxJSEjXkwUQ",
      "include_colab_link": true
    },
    "kernelspec": {
      "name": "python3",
      "display_name": "Python 3"
    },
    "language_info": {
      "name": "python"
    }
  },
  "cells": [
    {
      "cell_type": "markdown",
      "metadata": {
        "id": "view-in-github",
        "colab_type": "text"
      },
      "source": [
        "<a href=\"https://colab.research.google.com/github/DanBeta23/ProgramacionBasica-DCCB/blob/main/Tarea_Sesi%C3%B3n_9.ipynb\" target=\"_parent\"><img src=\"https://colab.research.google.com/assets/colab-badge.svg\" alt=\"Open In Colab\"/></a>"
      ]
    },
    {
      "cell_type": "markdown",
      "source": [
        "Ejercicios de Lectura y Escritura de Archivos"
      ],
      "metadata": {
        "id": "Kz_p9igz1Hbl"
      }
    },
    {
      "cell_type": "code",
      "execution_count": 8,
      "metadata": {
        "id": "-5_Gx5B3ye6x"
      },
      "outputs": [],
      "source": [
        "## 1. Escritura de un archivo de texto\n",
        "lista_de_nombres = [\"Dan\", \"Marley\", \"Victor\", \"Max\"]\n",
        "\n",
        "with open(\"nombres.txt\", \"w\") as archivo:\n",
        "    for nombre in lista_de_nombres:\n",
        "        archivo.write(nombre + \"\\n\")"
      ]
    },
    {
      "cell_type": "code",
      "source": [
        "## 2. Lectura de un Archivo de texto\n",
        "with open(\"nombres.txt\", \"r\") as archivo:\n",
        "    nombres = archivo.readlines()\n",
        "\n",
        "nombres = [nombre.strip() for nombre in nombres]\n",
        "print(nombres)"
      ],
      "metadata": {
        "colab": {
          "base_uri": "https://localhost:8080/"
        },
        "id": "2J_2_mZJ1NTV",
        "outputId": "ba753afd-35e1-4063-bbd4-7dfadaf9770a"
      },
      "execution_count": 10,
      "outputs": [
        {
          "output_type": "stream",
          "name": "stdout",
          "text": [
            "['Dan', 'Marley', 'Victor', 'Max']\n"
          ]
        }
      ]
    },
    {
      "cell_type": "code",
      "source": [
        "lista_de_numeros = [6, 4, 24, 76, 23, 5, 1, 30]\n",
        "\n",
        "with open(\"numeros.txt\", \"w\") as archivo:\n",
        "    for numero in lista_de_numeros:\n",
        "        archivo.write(str(numero) + \"\\n\")"
      ],
      "metadata": {
        "id": "78lyaSNEMQOT"
      },
      "execution_count": 6,
      "outputs": []
    },
    {
      "cell_type": "code",
      "source": [
        "## 3. Lectura y Parseo de Números Enteros:\n",
        "with open(\"numeros.txt\", \"r\") as archivo:\n",
        "    numeros = archivo.readlines()\n",
        "\n",
        "numeros = [int(numero.strip()) for numero in numeros]\n",
        "suma = sum(numeros)\n",
        "print(suma)"
      ],
      "metadata": {
        "colab": {
          "base_uri": "https://localhost:8080/"
        },
        "id": "HwUgrj1A26LM",
        "outputId": "3c5266b8-11f1-44c4-ce00-2336c85c0884"
      },
      "execution_count": 7,
      "outputs": [
        {
          "output_type": "stream",
          "name": "stdout",
          "text": [
            "169\n"
          ]
        }
      ]
    },
    {
      "cell_type": "code",
      "source": [
        "## 4. Lectura y Escritura de diccionarios:\n",
        "estudiantes = []\n",
        "\n",
        "with open(\"estudiantes.txt\", \"r\") as archivo:\n",
        "    for linea in archivo:\n",
        "        datos = linea.strip().split(',')\n",
        "\n",
        "        estudiante = {\n",
        "            \"nombre\": datos[0],\n",
        "            \"edad\": int(datos[1]),\n",
        "            \"calificaciones\": [int(calificacion) for calificacion in datos[2:]]\n",
        "                     }\n",
        "\n",
        "        estudiantes.append(estudiante)\n",
        "\n",
        "for estudiante in estudiantes:\n",
        "    print(estudiante)"
      ],
      "metadata": {
        "id": "UytinawzM-K9"
      },
      "execution_count": null,
      "outputs": []
    },
    {
      "cell_type": "code",
      "source": [
        "## 5. Escritura de un archivo de texto con formato de específico:\n",
        "\n",
        "empleados = [{\"nombre\":\"Javier Romanos Diaz\",\n",
        "             \"edad\": 24,\n",
        "             \"salario\": 4500},\n",
        "             {\"nombre\":\"Jose Armando Sanchez Perez del Angel\",\n",
        "             \"edad\": 36,\n",
        "             \"salario\": 1750},\n",
        "             {\"nombre\":\"Jose Carlos Dianzo Aguilar Montes\",\n",
        "             \"edad\": 32,\n",
        "             \"salario\": 2100}]\n",
        "\n",
        "with open(\"empleados.txt\", \"w\") as archivo:\n",
        "    for empleado in empleados:\n",
        "        archivo.write(f\"{empleado['nombre']},{empleado['edad']},{empleado['salario']}\\n\")"
      ],
      "metadata": {
        "id": "yD8bCHc0Os5N"
      },
      "execution_count": 12,
      "outputs": []
    },
    {
      "cell_type": "code",
      "source": [
        "## 6. Lectura de un archivo de texto con formato específico\n",
        "\n",
        "empleados = []\n",
        "\n",
        "with open(\"empleados.txt\", \"r\") as archivo:\n",
        "    for linea in archivo:\n",
        "      datos = linea.strip().split(\",\")\n",
        "      empleado = {\n",
        "            \"nombre\": datos[0],\n",
        "            \"edad\": int(datos[1]),\n",
        "            \"salario\": float(datos[2])\n",
        "        }\n",
        "      empleados.append(empleado)\n",
        "\n",
        "print(empleados)\n",
        "\n",
        "salario_total = 0\n",
        "for empleado in empleados:\n",
        "    salario_total += empleado[\"salario\"]\n",
        "\n",
        "salario_promedio = salario_total / len(empleados)\n",
        "print(f\"El salario promedio es: {salario_promedio}\")"
      ],
      "metadata": {
        "colab": {
          "base_uri": "https://localhost:8080/"
        },
        "id": "gSdOPVDhQ9gQ",
        "outputId": "8824d1c0-f579-45c4-fcf4-ff455ccbc9dc"
      },
      "execution_count": 11,
      "outputs": [
        {
          "output_type": "stream",
          "name": "stdout",
          "text": [
            "[{'nombre': 'Javier Romanos Díaz', 'edad': 24, 'salario': 4500.0}, {'nombre': 'José Armando Sánchez Perez del Ángel', 'edad': 36, 'salario': 1750.0}, {'nombre': 'José Carlos Dianzo Aguilar Montes', 'edad': 32, 'salario': 2100.0}]\n",
            "El salario promedio es: 2783.3333333333335\n"
          ]
        }
      ]
    }
  ]
}