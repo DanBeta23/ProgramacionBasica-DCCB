{
  "nbformat": 4,
  "nbformat_minor": 0,
  "metadata": {
    "colab": {
      "provenance": [],
      "authorship_tag": "ABX9TyNMIqkBJEJCCM8y1KzwsQAH",
      "include_colab_link": true
    },
    "kernelspec": {
      "name": "python3",
      "display_name": "Python 3"
    },
    "language_info": {
      "name": "python"
    }
  },
  "cells": [
    {
      "cell_type": "markdown",
      "metadata": {
        "id": "view-in-github",
        "colab_type": "text"
      },
      "source": [
        "<a href=\"https://colab.research.google.com/github/DanBeta23/ProgramacionBasica-DCCB/blob/main/Semana1.ipynb\" target=\"_parent\"><img src=\"https://colab.research.google.com/assets/colab-badge.svg\" alt=\"Open In Colab\"/></a>"
      ]
    },
    {
      "cell_type": "code",
      "execution_count": 3,
      "metadata": {
        "colab": {
          "base_uri": "https://localhost:8080/"
        },
        "id": "n5ctI84q2YJY",
        "outputId": "49a29ce4-250e-4369-d205-8943551c357f"
      },
      "outputs": [
        {
          "output_type": "stream",
          "name": "stdout",
          "text": [
            "Hola mundo\n"
          ]
        }
      ],
      "source": [
        "print(\"Hola mundo\")"
      ]
    },
    {
      "cell_type": "code",
      "source": [
        "de = input(\"Quien envía: \")\n",
        "para = input(\"Quien recibe: \")\n",
        "\n",
        "mensaje = f\"Feliz Navidad! Inmundo animal! TQM Para: {para} De: {de}\"\n",
        "\n",
        "print(mensaje)"
      ],
      "metadata": {
        "colab": {
          "base_uri": "https://localhost:8080/"
        },
        "id": "tsLbe_WUE9WH",
        "outputId": "19e45012-fb07-4ad1-e5f2-dc845413c166"
      },
      "execution_count": 5,
      "outputs": [
        {
          "output_type": "stream",
          "name": "stdout",
          "text": [
            "Quien envía: Yo\n",
            "Quien recibe: Tú \n",
            "Feliz Navidad! Inmundo animal! TQM Para: Tú  De: Yo\n"
          ]
        }
      ]
    },
    {
      "cell_type": "code",
      "source": [
        "numA = int(input(\"Ingrese número a: \"))\n",
        "numB = int(input(\"Ingrese número b: \"))\n",
        "\n",
        "print(numA + numB)"
      ],
      "metadata": {
        "colab": {
          "base_uri": "https://localhost:8080/"
        },
        "id": "4rREmBqcGORl",
        "outputId": "dd01c33a-5c17-4a6c-b5c6-a04441cd3aaa"
      },
      "execution_count": 6,
      "outputs": [
        {
          "output_type": "stream",
          "name": "stdout",
          "text": [
            "Ingrese número a: 20\n",
            "Ingrese número b: 50\n",
            "70\n"
          ]
        }
      ]
    }
  ]
}